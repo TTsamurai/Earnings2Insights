{
  "cells": [
    {
      "cell_type": "markdown",
      "metadata": {},
      "source": [
        "# Public Dataset Quickstart\n",
        "\n",
        "Use this notebook to explore `wide_data_public.csv` located in the same directory.\n",
        "The steps below load the dataset, preview a few rows, and compute simple summaries\n",
        "that you can adapt for your own analysis."
      ]
    },
    {
      "cell_type": "code",
      "execution_count": null,
      "metadata": {},
      "outputs": [],
      "source": [
        "from pathlib import Path\n",
        "import pandas as pd\n",
        "\n",
        "DATA_PATH = Path('wide_data_public.csv')\n",
        "if not DATA_PATH.exists():\n",
        "    raise FileNotFoundError(f'Expected to find {DATA_PATH} next to this notebook.')\n",
        "\n",
        "data = pd.read_csv(DATA_PATH)\n",
        "data.shape"
      ]
    },
    {
      "cell_type": "code",
      "execution_count": null,
      "metadata": {},
      "outputs": [],
      "source": [
        "data.head()"
      ]
    },
    {
      "cell_type": "code",
      "execution_count": null,
      "metadata": {},
      "outputs": [],
      "source": [
        "likert_columns = ['Clarity', 'Logic', 'Persuasiveness', 'Readability', 'Usefulness']\n",
        "summary = (\n",
        "    data[likert_columns]\n",
        "    .agg(['mean', 'std', 'count'])\n",
        "    .T\n",
        ")\n",
        "summary"
      ]
    },
    {
      "cell_type": "code",
      "execution_count": null,
      "metadata": {},
      "outputs": [],
      "source": [
        "decision_columns = ['financial_decision_day', 'financial_decision_week', 'financial_decision_month']\n",
        "{col: data[col].value_counts().sort_index() for col in decision_columns}"
      ]
    }
  ],
  "metadata": {
    "kernelspec": {
      "display_name": "Python 3",
      "language": "python",
      "name": "python3"
    },
    "language_info": {
      "name": "python",
      "version": "3.10"
    }
  },
  "nbformat": 4,
  "nbformat_minor": 5
}